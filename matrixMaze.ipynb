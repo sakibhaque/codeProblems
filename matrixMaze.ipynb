{
  "nbformat": 4,
  "nbformat_minor": 0,
  "metadata": {
    "colab": {
      "name": "matrixMaze.ipynb",
      "provenance": [],
      "collapsed_sections": [],
      "authorship_tag": "ABX9TyOCIanSX/G1GYbPBYxqeRp5",
      "include_colab_link": true
    },
    "kernelspec": {
      "name": "python3",
      "display_name": "Python 3"
    },
    "language_info": {
      "name": "python"
    }
  },
  "cells": [
    {
      "cell_type": "markdown",
      "metadata": {
        "id": "view-in-github",
        "colab_type": "text"
      },
      "source": [
        "<a href=\"https://colab.research.google.com/github/sakibhaque/codeProblems/blob/master/matrixMaze.ipynb\" target=\"_parent\"><img src=\"https://colab.research.google.com/assets/colab-badge.svg\" alt=\"Open In Colab\"/></a>"
      ]
    },
    {
      "cell_type": "markdown",
      "metadata": {
        "id": "QNl4xv-FoWDh"
      },
      "source": [
        "There is an N by M matrix of zeroes. Given N and M, write a function to count the number of ways of starting at the top-left corner and getting to the bottom-right corner. You can only move right or down.\n",
        "\n",
        "For example, given a 2 by 2 matrix, you should return 2, since there are two ways to get to the bottom-right:\n",
        "\n",
        "    Right, then down\n",
        "    Down, then right\n",
        "\n",
        "Given a 5 by 5 matrix, there are 70 ways to get to the bottom-right."
      ]
    },
    {
      "cell_type": "markdown",
      "metadata": {
        "id": "MWgImUw7uVqp"
      },
      "source": [
        "The key to this problem is realizing that this is just a problem of restricted steps that can be taken along the matrix.\n",
        "A 2x2 matrix will have 2 moves (one is down, the other is right and the order in which we make these moves determine the number of ways).\n",
        "A 5x5 matrix will have 8 moves (4 down and 4 right).\n",
        "A 20x3 matrix will have 21 moves (2 down and 19 right).\n",
        "Now this becomes a permutation problem where order does not matter for the same direction moves (this means that the 2 down moves are indistinguishable)."
      ]
    },
    {
      "cell_type": "code",
      "metadata": {
        "id": "6I7VO4TBvpaK"
      },
      "source": [
        "def factorial(n):\n",
        "  assert(n>-1)\n",
        "  if n == 1 or n == 0:\n",
        "    return 1\n",
        "  fs = factorial(n-1)\n",
        "  return n*fs"
      ],
      "execution_count": 27,
      "outputs": []
    },
    {
      "cell_type": "code",
      "metadata": {
        "id": "g4E6WlJnoUN-"
      },
      "source": [
        "def ways(n, m):\n",
        "  return factorial(n+m-2)/(factorial(n-1)*factorial(m-1))"
      ],
      "execution_count": 28,
      "outputs": []
    },
    {
      "cell_type": "code",
      "metadata": {
        "colab": {
          "base_uri": "https://localhost:8080/"
        },
        "id": "BkXbVusFhfVy",
        "outputId": "9a9214ec-877e-45db-ab28-e6ed47499536"
      },
      "source": [
        "print(ways(2, 2))"
      ],
      "execution_count": 29,
      "outputs": [
        {
          "output_type": "stream",
          "text": [
            "2.0\n"
          ],
          "name": "stdout"
        }
      ]
    }
  ]
}